{
 "cells": [
  {
   "cell_type": "markdown",
   "metadata": {},
   "source": [
    "### Name-Pratyoosh Anand\n",
    "### Batch-B4"
   ]
  },
  {
   "cell_type": "code",
   "execution_count": 1,
   "metadata": {},
   "outputs": [],
   "source": [
    "import numpy as np"
   ]
  },
  {
   "cell_type": "markdown",
   "metadata": {},
   "source": [
    "1.\tHow to add a border around a NumPy array?"
   ]
  },
  {
   "cell_type": "code",
   "execution_count": 2,
   "metadata": {},
   "outputs": [
    {
     "name": "stdout",
     "output_type": "stream",
     "text": [
      "Without border matrix\n",
      "[[1. 1. 1.]\n",
      " [1. 1. 1.]\n",
      " [1. 1. 1.]]\n",
      "Border Matrix\n",
      "[[0. 0. 0. 0. 0.]\n",
      " [0. 1. 1. 1. 0.]\n",
      " [0. 1. 1. 1. 0.]\n",
      " [0. 1. 1. 1. 0.]\n",
      " [0. 0. 0. 0. 0.]]\n"
     ]
    }
   ],
   "source": [
    "x=np.ones((3,3))\n",
    "print(\"Without border matrix\")\n",
    "print(x)\n",
    "x = np.pad(x, pad_width=1, mode='constant',\n",
    "               constant_values=0)\n",
    "print(\"Border Matrix\")\n",
    "print(x)"
   ]
  },
  {
   "cell_type": "markdown",
   "metadata": {},
   "source": [
    "How to compare two NumPy arrays?"
   ]
  },
  {
   "cell_type": "code",
   "execution_count": 3,
   "metadata": {},
   "outputs": [
    {
     "data": {
      "text/plain": [
       "array([[ True,  True],\n",
       "       [ True,  True]])"
      ]
     },
     "execution_count": 3,
     "metadata": {},
     "output_type": "execute_result"
    }
   ],
   "source": [
    "x=np.array([[1,2],[3,4]])\n",
    "y=np.array([[1,2],[3,4]])\n",
    "np.equal(x,y)"
   ]
  },
  {
   "cell_type": "markdown",
   "metadata": {},
   "source": [
    "How to check whether specified values are present in NumPy array?"
   ]
  },
  {
   "cell_type": "code",
   "execution_count": 4,
   "metadata": {},
   "outputs": [
    {
     "name": "stdout",
     "output_type": "stream",
     "text": [
      "True\n"
     ]
    }
   ],
   "source": [
    "n_array = np.array([[2, 3, 0],\n",
    "                    [4, 1, 6]])\n",
    "print(2 in n_array)"
   ]
  },
  {
   "cell_type": "markdown",
   "metadata": {},
   "source": [
    "How to get all 2D diagonals of a 3D NumPy array?"
   ]
  },
  {
   "cell_type": "code",
   "execution_count": 5,
   "metadata": {},
   "outputs": [
    {
     "name": "stdout",
     "output_type": "stream",
     "text": [
      "Original 3d array:\n",
      " [[[ 0  1  2  3]\n",
      "  [ 4  5  6  7]\n",
      "  [ 8  9 10 11]]\n",
      "\n",
      " [[12 13 14 15]\n",
      "  [16 17 18 19]\n",
      "  [20 21 22 23]]\n",
      "\n",
      " [[24 25 26 27]\n",
      "  [28 29 30 31]\n",
      "  [32 33 34 35]]]\n",
      "2d diagonal array:\n",
      " [[ 0  5 10]\n",
      " [12 17 22]\n",
      " [24 29 34]]\n"
     ]
    }
   ],
   "source": [
    "x = np.arange(3 * 3 * 4).reshape(3, 3, 4)\n",
    "  \n",
    "print(\"Original 3d array:\\n\", \n",
    "      x)\n",
    "  \n",
    "# Create 2D diagonal array\n",
    "diag_x = np.diagonal(x, \n",
    "                       axis1 = 1,\n",
    "                       axis2 = 2)\n",
    "  \n",
    "print(\"2d diagonal array:\\n\",\n",
    "      diag_x)"
   ]
  },
  {
   "cell_type": "markdown",
   "metadata": {},
   "source": [
    "Flatten a Matrix in Python using NumPy"
   ]
  },
  {
   "cell_type": "code",
   "execution_count": 6,
   "metadata": {},
   "outputs": [
    {
     "name": "stdout",
     "output_type": "stream",
     "text": [
      "[2 4 4 5]\n"
     ]
    }
   ],
   "source": [
    "arr = np.array([[2, 4], [4, 5]])\n",
    "  \n",
    "# using array.flatten() method\n",
    "flat_arr = arr.flatten()\n",
    "print(flat_arr)"
   ]
  },
  {
   "cell_type": "markdown",
   "metadata": {},
   "source": [
    "Flatten a 2d numpy array into 1d array"
   ]
  },
  {
   "cell_type": "code",
   "execution_count": 7,
   "metadata": {},
   "outputs": [
    {
     "name": "stdout",
     "output_type": "stream",
     "text": [
      "[[1 2]\n",
      " [2 3]\n",
      " [3 4]]\n",
      "1d array\n",
      "[1 2 2 3 3 4]\n"
     ]
    }
   ],
   "source": [
    "prim_arr=np.array([[1,2],[2,3],[3,4]])\n",
    "print(prim_arr)\n",
    "print(\"1d array\")\n",
    "print(prim_arr.flatten())"
   ]
  },
  {
   "cell_type": "markdown",
   "metadata": {},
   "source": [
    "How to Calculate the determinant of a matrix using NumPy?"
   ]
  },
  {
   "cell_type": "code",
   "execution_count": 8,
   "metadata": {},
   "outputs": [
    {
     "name": "stdout",
     "output_type": "stream",
     "text": [
      "Determinant\n",
      "-4.999999999999952\n"
     ]
    }
   ],
   "source": [
    "arr=np.array([[25,24],[45,43]])\n",
    "print(\"Determinant\")\n",
    "print(np.linalg.det(arr))"
   ]
  },
  {
   "cell_type": "markdown",
   "metadata": {},
   "source": [
    "How to inverse a matrix using NumPy"
   ]
  },
  {
   "cell_type": "code",
   "execution_count": 9,
   "metadata": {},
   "outputs": [
    {
     "name": "stdout",
     "output_type": "stream",
     "text": [
      "Matrix\n",
      "\n",
      "[[2 4 6]\n",
      " [4 6 7]\n",
      " [4 5 6]]\n",
      "Inverse\n",
      "\n",
      "[[-0.16666667 -1.          1.33333333]\n",
      " [-0.66666667  2.         -1.66666667]\n",
      " [ 0.66666667 -1.          0.66666667]]\n"
     ]
    }
   ],
   "source": [
    "arr=np.array([[2,4,6],[4,6,7],[4,5,6]])\n",
    "print(\"Matrix\\n\")\n",
    "print(arr)\n",
    "print(\"Inverse\\n\")\n",
    "print(np.linalg.inv(arr))"
   ]
  },
  {
   "cell_type": "markdown",
   "metadata": {},
   "source": [
    "How to count the frequency of unique values in NumPy array?\n"
   ]
  },
  {
   "cell_type": "code",
   "execution_count": 10,
   "metadata": {},
   "outputs": [
    {
     "name": "stdout",
     "output_type": "stream",
     "text": [
      "[1 2 3]\n"
     ]
    }
   ],
   "source": [
    "arr=np.array([[1,2,3],[1,2,3],[1,2,3]])\n",
    "print(np.unique(arr))"
   ]
  },
  {
   "cell_type": "markdown",
   "metadata": {},
   "source": [
    "Multiply matrices of complex numbers using NumPy in Python"
   ]
  },
  {
   "cell_type": "code",
   "execution_count": 11,
   "metadata": {},
   "outputs": [
    {
     "name": "stdout",
     "output_type": "stream",
     "text": [
      "(22+11j)\n"
     ]
    }
   ],
   "source": [
    "arr1=np.array([1+3j,4+5j])\n",
    "arr2=np.array([1+2j,3j])\n",
    "print(np.vdot(arr1,arr2))"
   ]
  },
  {
   "cell_type": "markdown",
   "metadata": {},
   "source": [
    "Compute the outer product of two given vectors using NumPy in Python"
   ]
  },
  {
   "cell_type": "code",
   "execution_count": 12,
   "metadata": {},
   "outputs": [
    {
     "name": "stdout",
     "output_type": "stream",
     "text": [
      "[[ 1  3  2  4]\n",
      " [ 2  6  4  8]\n",
      " [ 2  6  4  8]\n",
      " [ 3  9  6 12]]\n"
     ]
    }
   ],
   "source": [
    "arr1=np.array([[1,2],[2,3]])\n",
    "arr2=np.array([[1,3],[2,4]])\n",
    "print(np.outer(arr1,arr2))"
   ]
  },
  {
   "cell_type": "markdown",
   "metadata": {},
   "source": [
    "Calculate inner, outer, and cross products of matrices and vectors using NumPy"
   ]
  },
  {
   "cell_type": "code",
   "execution_count": 13,
   "metadata": {},
   "outputs": [
    {
     "name": "stdout",
     "output_type": "stream",
     "text": [
      "Inner\n",
      "[[ 7 10]\n",
      " [11 16]]\n",
      "Outer\n",
      "[[ 1  3  2  4]\n",
      " [ 2  6  4  8]\n",
      " [ 2  6  4  8]\n",
      " [ 3  9  6 12]]\n",
      "Cross\n",
      "[1 2]\n"
     ]
    }
   ],
   "source": [
    "arr1=np.array([[1,2],[2,3]])\n",
    "arr2=np.array([[1,3],[2,4]])\n",
    "print(\"Inner\")\n",
    "print(np.inner(arr1,arr2))\n",
    "print(\"Outer\")\n",
    "print(np.outer(arr1,arr2))\n",
    "print(\"Cross\")\n",
    "print(np.cross(arr1,arr2))"
   ]
  },
  {
   "cell_type": "markdown",
   "metadata": {},
   "source": [
    "Compute the covariance matrix of two given NumPy arrays"
   ]
  },
  {
   "cell_type": "code",
   "execution_count": 14,
   "metadata": {},
   "outputs": [
    {
     "name": "stdout",
     "output_type": "stream",
     "text": [
      "[[0.5 0.5 1.  1. ]\n",
      " [0.5 0.5 1.  1. ]\n",
      " [1.  1.  2.  2. ]\n",
      " [1.  1.  2.  2. ]]\n"
     ]
    }
   ],
   "source": [
    "arr1=np.array([[1,2],[2,3]])\n",
    "arr2=np.array([[1,3],[2,4]])\n",
    "print(np.cov(arr1,arr2))"
   ]
  },
  {
   "cell_type": "markdown",
   "metadata": {},
   "source": [
    "Compute the Kronecker product of two mulitdimension NumPy arrays"
   ]
  },
  {
   "cell_type": "code",
   "execution_count": 15,
   "metadata": {},
   "outputs": [
    {
     "name": "stdout",
     "output_type": "stream",
     "text": [
      "[[ 1  3  2  6]\n",
      " [ 2  4  4  8]\n",
      " [ 2  6  3  9]\n",
      " [ 4  8  6 12]]\n"
     ]
    }
   ],
   "source": [
    "arr1=np.array([[1,2],[2,3]])\n",
    "arr2=np.array([[1,3],[2,4]])\n",
    "print(np.kron(arr1,arr2))"
   ]
  },
  {
   "cell_type": "markdown",
   "metadata": {},
   "source": [
    "Python | Numpy matrix.tolist()"
   ]
  },
  {
   "cell_type": "code",
   "execution_count": 16,
   "metadata": {},
   "outputs": [
    {
     "name": "stdout",
     "output_type": "stream",
     "text": [
      "[[1, 2], [2, 3]]\n"
     ]
    }
   ],
   "source": [
    "arr1=np.array([[1,2],[2,3]])\n",
    "print(arr1.tolist())"
   ]
  },
  {
   "cell_type": "markdown",
   "metadata": {},
   "source": [
    "Find indices of elements equal to zero in a NumPy array"
   ]
  },
  {
   "cell_type": "code",
   "execution_count": 17,
   "metadata": {},
   "outputs": [
    {
     "name": "stdout",
     "output_type": "stream",
     "text": [
      "[ 1  3  5  6 11]\n"
     ]
    }
   ],
   "source": [
    "n_array = np.array([1, 0, 2, 0, 3, 0, 0, 5,\n",
    "                    6, 7, 5, 0, 8])\n",
    "res = np.where(n_array == 0)[0]\n",
    "print(res)"
   ]
  },
  {
   "cell_type": "markdown",
   "metadata": {},
   "source": [
    "How to Remove columns in Numpy array that contains non-numeric values?"
   ]
  },
  {
   "cell_type": "code",
   "execution_count": 18,
   "metadata": {},
   "outputs": [
    {
     "name": "stdout",
     "output_type": "stream",
     "text": [
      "[[10.5 22.5]\n",
      " [41.  52.5]]\n"
     ]
    }
   ],
   "source": [
    "n_arr = np.array([[10.5, 22.5, np.nan],\n",
    "                  [41, 52.5, np.nan]])\n",
    "print(n_arr[:, ~np.isnan(n_arr).any(axis=0)])"
   ]
  },
  {
   "cell_type": "markdown",
   "metadata": {},
   "source": [
    "How to access different rows of a multidimensional NumPy array?"
   ]
  },
  {
   "cell_type": "code",
   "execution_count": 19,
   "metadata": {},
   "outputs": [
    {
     "name": "stdout",
     "output_type": "stream",
     "text": [
      "[[10 20 30]\n",
      " [70 88 94]]\n"
     ]
    }
   ],
   "source": [
    "arr = np.array([[10, 20, 30], \n",
    "                [40, 5, 66], \n",
    "                [70, 88, 94]])\n",
    "  \n",
    "# Access the First and Last rows of array\n",
    "res_arr = arr[[0,2]]\n",
    "print(res_arr)"
   ]
  },
  {
   "cell_type": "markdown",
   "metadata": {},
   "source": [
    "Python | numpy.fill_diagonal() method"
   ]
  },
  {
   "cell_type": "code",
   "execution_count": 20,
   "metadata": {},
   "outputs": [
    {
     "name": "stdout",
     "output_type": "stream",
     "text": [
      "[[1 0 0]\n",
      " [0 1 0]\n",
      " [0 0 1]]\n"
     ]
    }
   ],
   "source": [
    "array = np.zeros((3, 3), int)\n",
    "np.fill_diagonal(array, 1)\n",
    "  \n",
    "print(array)"
   ]
  },
  {
   "cell_type": "markdown",
   "metadata": {},
   "source": [
    "Python | numpy.isin() method"
   ]
  },
  {
   "cell_type": "code",
   "execution_count": 21,
   "metadata": {},
   "outputs": [
    {
     "name": "stdout",
     "output_type": "stream",
     "text": [
      "[[ True  True  True]\n",
      " [False False False]\n",
      " [False False False]]\n"
     ]
    }
   ],
   "source": [
    "arr = np.array([[10, 20, 30], \n",
    "                [40, 5, 66], \n",
    "                [70, 88, 94]])\n",
    "print(np.isin(arr,[10,20,30]))"
   ]
  },
  {
   "cell_type": "markdown",
   "metadata": {},
   "source": [
    "Combined array index by index"
   ]
  },
  {
   "cell_type": "code",
   "execution_count": 22,
   "metadata": {},
   "outputs": [
    {
     "name": "stdout",
     "output_type": "stream",
     "text": [
      "[[[1 4]\n",
      "  [2 5]\n",
      "  [3 6]]]\n"
     ]
    }
   ],
   "source": [
    "gfg1 = np.array([1, 2, 3])\n",
    "gfg2 = np.array([4, 5, 6])\n",
    "print(np.dstack((gfg1, gfg2)))"
   ]
  },
  {
   "cell_type": "markdown",
   "metadata": {},
   "source": [
    "Calculate the Euclidean distance using NumPy"
   ]
  },
  {
   "cell_type": "code",
   "execution_count": 23,
   "metadata": {},
   "outputs": [
    {
     "name": "stdout",
     "output_type": "stream",
     "text": [
      "2.23606797749979\n"
     ]
    }
   ],
   "source": [
    "point1 = np.array((1, 2, 3))\n",
    "point2 = np.array((1, 1, 1))\n",
    "print(np.linalg.norm(point1 - point2))"
   ]
  },
  {
   "cell_type": "markdown",
   "metadata": {},
   "source": [
    "Sort the values in a matrix"
   ]
  },
  {
   "cell_type": "code",
   "execution_count": 24,
   "metadata": {},
   "outputs": [
    {
     "name": "stdout",
     "output_type": "stream",
     "text": [
      "[ 4  5  8 12 21 23]\n"
     ]
    }
   ],
   "source": [
    "arr=np.array([12,4,5,8,21,23])\n",
    "print(np.sort(arr))"
   ]
  },
  {
   "cell_type": "markdown",
   "metadata": {},
   "source": [
    "Filter out integers from float numpy array"
   ]
  },
  {
   "cell_type": "code",
   "execution_count": 25,
   "metadata": {},
   "outputs": [
    {
     "name": "stdout",
     "output_type": "stream",
     "text": [
      "[1. 2. 4.]\n"
     ]
    }
   ],
   "source": [
    "arr=np.array([0.5,1.0,2.0,3.5,4.0,4.5])\n",
    "arr_result=arr[arr==arr.astype(int)]\n",
    "print(arr_result)"
   ]
  },
  {
   "cell_type": "markdown",
   "metadata": {},
   "source": [
    "Find the indices into a sorted array"
   ]
  },
  {
   "cell_type": "code",
   "execution_count": 26,
   "metadata": {},
   "outputs": [
    {
     "name": "stdout",
     "output_type": "stream",
     "text": [
      "3\n"
     ]
    }
   ],
   "source": [
    "arr=np.array([12,4,5,8,21,23])\n",
    "print(np.searchsorted(arr,8))"
   ]
  },
  {
   "cell_type": "markdown",
   "metadata": {},
   "source": [
    "Calculate the sum of all columns in a 2D NumPy array"
   ]
  },
  {
   "cell_type": "code",
   "execution_count": 27,
   "metadata": {},
   "outputs": [
    {
     "name": "stdout",
     "output_type": "stream",
     "text": [
      "2D Array:\n",
      "[[ 1  2  3]\n",
      " [ 4  5  6]\n",
      " [ 7  8  9]\n",
      " [10 11 12]]\n",
      "\n",
      "Column-wise Sum:\n",
      "22 26 30 "
     ]
    }
   ],
   "source": [
    "def colsum(arr, n, m):\n",
    "    for i in range(n):\n",
    "        su = 0;\n",
    "        for j in range(m):\n",
    "            su += arr[j][i]\n",
    "        print(su, end = \" \")   \n",
    " \n",
    "# creating the 2D Array\n",
    "TwoDList = [[1, 2, 3], [4, 5, 6],\n",
    "            [7, 8, 9], [10, 11, 12]]\n",
    "TwoDArray = np.array(TwoDList)\n",
    " \n",
    "# displaying the 2D Array\n",
    "print(\"2D Array:\")\n",
    "print(TwoDArray)\n",
    " \n",
    "# printing the sum of each column\n",
    "print(\"\\nColumn-wise Sum:\")\n",
    "colsum(TwoDArray, len(TwoDArray[0]), len(TwoDArray))"
   ]
  },
  {
   "cell_type": "markdown",
   "metadata": {},
   "source": [
    "\tCalculate average values of two given NumPy arrays"
   ]
  },
  {
   "cell_type": "code",
   "execution_count": 28,
   "metadata": {},
   "outputs": [
    {
     "name": "stdout",
     "output_type": "stream",
     "text": [
      "[3.5 4.5]\n"
     ]
    }
   ],
   "source": [
    "arr1=np.array([3,4])\n",
    "arr2=np.array([4,5])\n",
    "avg=(arr1+arr2)/2\n",
    "print(avg)"
   ]
  },
  {
   "cell_type": "markdown",
   "metadata": {},
   "source": [
    "How to compute numerical negative value for all elements in a given NumPy array?"
   ]
  },
  {
   "cell_type": "code",
   "execution_count": 30,
   "metadata": {},
   "outputs": [
    {
     "name": "stdout",
     "output_type": "stream",
     "text": [
      "[-1 -2  1  2 -3 -4  5 -6]\n"
     ]
    }
   ],
   "source": [
    "arr1=np.array([1,2,-1,-2,3,4,-5,6])\n",
    "x=np.negative(arr1)\n",
    "print(x)"
   ]
  },
  {
   "cell_type": "markdown",
   "metadata": {},
   "source": [
    "How to get the floor, ceiling and truncated values of the elements of a numpy array?"
   ]
  },
  {
   "cell_type": "code",
   "execution_count": 32,
   "metadata": {},
   "outputs": [
    {
     "name": "stdout",
     "output_type": "stream",
     "text": [
      "[1.]\n",
      "[2.]\n",
      "[1.]\n"
     ]
    }
   ],
   "source": [
    "x=np.array([1.2])\n",
    "print(np.floor(x))\n",
    "print(np.ceil(x))\n",
    "print(np.trunc(x))"
   ]
  },
  {
   "cell_type": "markdown",
   "metadata": {},
   "source": [
    "How to round elements of the NumPy array to the nearest integer?"
   ]
  },
  {
   "cell_type": "code",
   "execution_count": 33,
   "metadata": {},
   "outputs": [
    {
     "name": "stdout",
     "output_type": "stream",
     "text": [
      "[0. 0. 1. 0. 2.]\n"
     ]
    }
   ],
   "source": [
    "y=np.array([0.2,0.3,1.2,0.5,1.5])\n",
    "print(np.rint(y))"
   ]
  },
  {
   "cell_type": "markdown",
   "metadata": {},
   "source": [
    "Find the round off the values of the given matrix"
   ]
  },
  {
   "cell_type": "code",
   "execution_count": 34,
   "metadata": {},
   "outputs": [
    {
     "name": "stdout",
     "output_type": "stream",
     "text": [
      "[0. 1. 1.]\n"
     ]
    }
   ],
   "source": [
    "a=np.array([0.2,1,1.2])\n",
    "print(a.round())"
   ]
  },
  {
   "cell_type": "code",
   "execution_count": 35,
   "metadata": {},
   "outputs": [
    {
     "name": "stdout",
     "output_type": "stream",
     "text": [
      "[2.]\n"
     ]
    }
   ],
   "source": [
    "arr=np.array([4])\n",
    "print(np.sqrt(arr))"
   ]
  },
  {
   "cell_type": "markdown",
   "metadata": {},
   "source": [
    "Evaluate Einstein’s summation convention of two multidimensional NumPy arrays"
   ]
  },
  {
   "cell_type": "code",
   "execution_count": 36,
   "metadata": {},
   "outputs": [
    {
     "name": "stdout",
     "output_type": "stream",
     "text": [
      "[[6 9]\n",
      " [6 8]]\n"
     ]
    }
   ],
   "source": [
    "matrix1 = np.array([[1, 2], [0, 2]])\n",
    "matrix2 = np.array([[0, 1], [3, 4]])\n",
    "print(np.einsum(\"mk,kn\", matrix1, matrix2))"
   ]
  },
  {
   "cell_type": "markdown",
   "metadata": {},
   "source": [
    "numpy.std() in Python"
   ]
  },
  {
   "cell_type": "code",
   "execution_count": 37,
   "metadata": {},
   "outputs": [
    {
     "name": "stdout",
     "output_type": "stream",
     "text": [
      "1.707825127659933\n"
     ]
    }
   ],
   "source": [
    "arr=np.array([1,2,3,4,5,6])\n",
    "print(np.std(arr))"
   ]
  },
  {
   "cell_type": "markdown",
   "metadata": {},
   "source": [
    "Compute pearson product-moment correlation coefficients of two given NumPy arrays"
   ]
  },
  {
   "cell_type": "code",
   "execution_count": 38,
   "metadata": {},
   "outputs": [
    {
     "name": "stdout",
     "output_type": "stream",
     "text": [
      "[[1. 1.]\n",
      " [1. 1.]]\n"
     ]
    }
   ],
   "source": [
    "array1 = np.array([0, 1, 2])\n",
    "array2 = np.array([3, 4, 5])\n",
    "print(np.corrcoef(array1,array2))"
   ]
  },
  {
   "cell_type": "markdown",
   "metadata": {},
   "source": [
    "Calculate the mean across dimension in a 2D NumPy array"
   ]
  },
  {
   "cell_type": "code",
   "execution_count": 39,
   "metadata": {},
   "outputs": [
    {
     "data": {
      "text/plain": [
       "2.5"
      ]
     },
     "execution_count": 39,
     "metadata": {},
     "output_type": "execute_result"
    }
   ],
   "source": [
    "arr1=np.array([[1,2],[3,4]])\n",
    "np.mean(arr1)"
   ]
  },
  {
   "cell_type": "markdown",
   "metadata": {},
   "source": [
    "Calculate the average, variance and standard deviation in Python using NumPy"
   ]
  },
  {
   "cell_type": "code",
   "execution_count": 41,
   "metadata": {},
   "outputs": [
    {
     "name": "stdout",
     "output_type": "stream",
     "text": [
      "5.0\n",
      "4.0\n",
      "2.0\n"
     ]
    }
   ],
   "source": [
    "import numpy as np\n",
    "list = [2, 4, 4, 4, 5, 5, 7, 9]\n",
    "print(np.average(list))\n",
    "print(np.var(list))\n",
    "print(np.std(list))"
   ]
  },
  {
   "cell_type": "markdown",
   "metadata": {},
   "source": [
    "Describe a NumPy Array in Python"
   ]
  },
  {
   "cell_type": "code",
   "execution_count": 42,
   "metadata": {},
   "outputs": [
    {
     "name": "stdout",
     "output_type": "stream",
     "text": [
      "3.857142857142857\n",
      "4.0\n"
     ]
    }
   ],
   "source": [
    "arr=np.array([1,2,3,4,5,6,6])\n",
    "print(np.mean(arr))\n",
    "print(np.median(arr))"
   ]
  },
  {
   "cell_type": "markdown",
   "metadata": {},
   "source": [
    "How to divide a polynomial to another using NumPy in Python?"
   ]
  },
  {
   "cell_type": "code",
   "execution_count": 43,
   "metadata": {},
   "outputs": [
    {
     "name": "stdout",
     "output_type": "stream",
     "text": [
      "[-12.   5.]\n",
      "[29.]\n"
     ]
    }
   ],
   "source": [
    "\n",
    "px = (5, -2, 5)\n",
    "gx = (2, 1, 0)\n",
    "  \n",
    "# divide the polynomials\n",
    "qx, rx = np.polynomial.polynomial.polydiv(px, gx)\n",
    "  \n",
    "# print the result\n",
    "# quotiient\n",
    "print(qx)\n",
    "  \n",
    "# remainder\n",
    "print(rx)"
   ]
  },
  {
   "cell_type": "markdown",
   "metadata": {},
   "source": [
    "Find the roots of the polynomials using NumPy"
   ]
  },
  {
   "cell_type": "code",
   "execution_count": 44,
   "metadata": {},
   "outputs": [
    {
     "data": {
      "text/plain": [
       "array([-1.+1.j, -1.-1.j])"
      ]
     },
     "execution_count": 44,
     "metadata": {},
     "output_type": "execute_result"
    }
   ],
   "source": [
    "coef=np.array([1,2,2])\n",
    "np.roots(coef)"
   ]
  },
  {
   "cell_type": "markdown",
   "metadata": {},
   "source": [
    "Python | Numpy np.polygrid2d() method"
   ]
  },
  {
   "cell_type": "markdown",
   "metadata": {},
   "source": [
    "numpy string operations | upper() function"
   ]
  },
  {
   "cell_type": "code",
   "execution_count": 45,
   "metadata": {},
   "outputs": [
    {
     "data": {
      "text/plain": [
       "array(['GEF', 'F', 'GO', 'OYL'], dtype='<U3')"
      ]
     },
     "execution_count": 45,
     "metadata": {},
     "output_type": "execute_result"
    }
   ],
   "source": [
    "input_arr=np.array(['gef','f','go','oyl'])\n",
    "np.char.upper(input_arr)"
   ]
  },
  {
   "cell_type": "markdown",
   "metadata": {},
   "source": [
    "numpy string operations | lower() function"
   ]
  },
  {
   "cell_type": "code",
   "execution_count": 46,
   "metadata": {},
   "outputs": [
    {
     "data": {
      "text/plain": [
       "array(['gef', 'f', 'go', 'oyl'], dtype='<U3')"
      ]
     },
     "execution_count": 46,
     "metadata": {},
     "output_type": "execute_result"
    }
   ],
   "source": [
    "input_arr=np.array(['GEF', 'F', 'GO', 'OYL'])\n",
    "np.char.lower(input_arr)"
   ]
  },
  {
   "cell_type": "markdown",
   "metadata": {},
   "source": [
    "numpy string operations | join() function"
   ]
  },
  {
   "cell_type": "code",
   "execution_count": 47,
   "metadata": {},
   "outputs": [
    {
     "data": {
      "text/plain": [
       "array(['P-Y-T-h-o-n'], dtype='<U11')"
      ]
     },
     "execution_count": 47,
     "metadata": {},
     "output_type": "execute_result"
    }
   ],
   "source": [
    "input_arr=np.array(['PYThon'])\n",
    "sep=np.array('-')\n",
    "np.core.defchararray.join(sep, input_arr)"
   ]
  },
  {
   "cell_type": "markdown",
   "metadata": {},
   "source": [
    "numpy string operations | not_equal() function"
   ]
  },
  {
   "cell_type": "code",
   "execution_count": 50,
   "metadata": {},
   "outputs": [
    {
     "name": "stdout",
     "output_type": "stream",
     "text": [
      "True\n"
     ]
    }
   ],
   "source": [
    "arr1=np.array(\"hello\")\n",
    "arr2=np.array(\"hell\")\n",
    "print(np.char.not_equal(arr1,arr2))"
   ]
  },
  {
   "cell_type": "markdown",
   "metadata": {},
   "source": [
    "numpy string operations | count() function"
   ]
  },
  {
   "cell_type": "code",
   "execution_count": 52,
   "metadata": {},
   "outputs": [
    {
     "name": "stdout",
     "output_type": "stream",
     "text": [
      "Input array :  ['PYThon']\n",
      "Output array:  [2 1 1]\n"
     ]
    }
   ],
   "source": [
    "import numpy as np\n",
    "  \n",
    "# input arrays  \n",
    "in_arr = np.array(['Sayantan', '  Sayan  ', 'Sayansubhra'])\n",
    "print (\"Input array : \", input_arr) \n",
    "  \n",
    "# output arrays \n",
    "output_arr = np.char.count(in_arr, sub ='an')\n",
    "print (\"Output array: \", output_arr) "
   ]
  },
  {
   "cell_type": "markdown",
   "metadata": {},
   "source": [
    "numpy string operations | find() function"
   ]
  },
  {
   "cell_type": "code",
   "execution_count": 55,
   "metadata": {},
   "outputs": [
    {
     "name": "stdout",
     "output_type": "stream",
     "text": [
      "Input array :  ['aAaAaA' 'baA' 'abBABba']\n",
      "Output array:  [-1 -1 -1]\n"
     ]
    }
   ],
   "source": [
    "\n",
    "# input arrays  \n",
    "input_arr = np.array(['aAaAaA', 'baA', 'abBABba'])\n",
    "print (\"Input array : \", input_arr) \n",
    "  \n",
    "# output arrays \n",
    "output_arr = np.char.find(in_arr, sub ='A')\n",
    "print (\"Output array: \", output_arr) "
   ]
  },
  {
   "cell_type": "markdown",
   "metadata": {},
   "source": [
    "Python | Numpy np.char.endswith() method"
   ]
  },
  {
   "cell_type": "code",
   "execution_count": 58,
   "metadata": {},
   "outputs": [
    {
     "name": "stdout",
     "output_type": "stream",
     "text": [
      "[ True False  True]\n"
     ]
    }
   ],
   "source": [
    "arr = np.array(['geeks', 'for', 'geeks'])\n",
    "gfg = np.char.endswith(arr, 'ks')\n",
    "  \n",
    "print(gfg)"
   ]
  },
  {
   "cell_type": "markdown",
   "metadata": {},
   "source": []
  }
 ],
 "metadata": {
  "kernelspec": {
   "display_name": "Python 3",
   "language": "python",
   "name": "python3"
  },
  "language_info": {
   "codemirror_mode": {
    "name": "ipython",
    "version": 3
   },
   "file_extension": ".py",
   "mimetype": "text/x-python",
   "name": "python",
   "nbconvert_exporter": "python",
   "pygments_lexer": "ipython3",
   "version": "3.8.3"
  }
 },
 "nbformat": 4,
 "nbformat_minor": 4
}
